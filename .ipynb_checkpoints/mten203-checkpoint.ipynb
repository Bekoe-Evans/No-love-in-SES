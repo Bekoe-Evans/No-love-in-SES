{
 "cells": [
  {
   "cell_type": "markdown",
   "id": "9b69bdbe-c958-4c84-8227-67edd36584f1",
   "metadata": {},
   "source": [
    "### THIS MESSAGE IS FROM ARCHIMEDES TOUSSAINT"
   ]
  },
  {
   "cell_type": "code",
   "execution_count": null,
   "id": "e6b2365c-cfbd-4de2-ba4a-d263ca825873",
   "metadata": {},
   "outputs": [],
   "source": []
  }
 ],
 "metadata": {
  "kernelspec": {
   "display_name": "Python 3 (ipykernel)",
   "language": "python",
   "name": "python3"
  },
  "language_info": {
   "codemirror_mode": {
    "name": "ipython",
    "version": 3
   },
   "file_extension": ".py",
   "mimetype": "text/x-python",
   "name": "python",
   "nbconvert_exporter": "python",
   "pygments_lexer": "ipython3",
   "version": "3.12.0"
  }
 },
 "nbformat": 4,
 "nbformat_minor": 5
}
